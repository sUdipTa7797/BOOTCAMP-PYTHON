{
 "cells": [
  {
   "cell_type": "markdown",
   "metadata": {
    "id": "dOCn-6GfpGCZ"
   },
   "source": [
    "##GENERATE MD5 of STRING DATA"
   ]
  },
  {
   "cell_type": "code",
   "execution_count": 1,
   "metadata": {
    "colab": {
     "base_uri": "https://localhost:8080/"
    },
    "id": "fRMzVeeOpZPG",
    "outputId": "46b9c4cf-b0f3-4ec3-ca00-ab9de2410da4"
   },
   "outputs": [
    {
     "name": "stdout",
     "output_type": "stream",
     "text": [
      "ENTER ANY WORD OR NUMBER:  SUDIPTA\n",
      "The md5 for SUDIPTA is:  <md5 HASH object @ 0x0000018C627EC990>\n"
     ]
    }
   ],
   "source": [
    "import hashlib\n",
    "data=(input(\"ENTER ANY WORD OR NUMBER:  \"))\n",
    "convert_md5=hashlib.md5(data.encode()) ## encode() convert string into byte\n",
    "print(\"The md5 for \"+ data +\" is: \",convert_md5)"
   ]
  },
  {
   "cell_type": "markdown",
   "metadata": {
    "id": "midgHjh6uGlw"
   },
   "source": [
    "##GENERATE HASHES OF STRING DATA USING 3 ALGORITHMS"
   ]
  },
  {
   "cell_type": "markdown",
   "metadata": {
    "id": "-MMY0a4w-vRX"
   },
   "source": [
    "***sha256***"
   ]
  },
  {
   "cell_type": "code",
   "execution_count": 30,
   "metadata": {
    "colab": {
     "base_uri": "https://localhost:8080/"
    },
    "id": "FUYlydbsvsTx",
    "outputId": "22170149-5f62-400a-b0d4-9cc9c28bb73d"
   },
   "outputs": [
    {
     "name": "stdout",
     "output_type": "stream",
     "text": [
      "ENTER ANY WORD OR NUMBER:  sudiptA\n",
      "The sha256 for sudiptA is: <sha256 HASH object @ 0x7f14e98e5930>\n"
     ]
    }
   ],
   "source": [
    "## SHA (SECURE HASH ALGORITHMS)\n",
    "## IT'S 32 BIT\n",
    "import hashlib\n",
    "data=(input(\"ENTER ANY WORD OR NUMBER:  \"))\n",
    "convert=hashlib.sha256(data.encode())\n",
    "print(\"The sha256 for \"+data+\" is:\",convert)\n",
    "\n"
   ]
  },
  {
   "cell_type": "markdown",
   "metadata": {
    "id": "RxR5q_Z5-3tz"
   },
   "source": [
    "***sha1***"
   ]
  },
  {
   "cell_type": "code",
   "execution_count": 36,
   "metadata": {
    "colab": {
     "base_uri": "https://localhost:8080/"
    },
    "id": "x_uDjqHe-2jL",
    "outputId": "e49d7814-310f-42fa-ae5d-2e7c1bb8e27f"
   },
   "outputs": [
    {
     "name": "stdout",
     "output_type": "stream",
     "text": [
      "ENTER ANY WORD OR NUMBER:  sudipta\n",
      "The sha1 for sudipta is: 2301421d6e96b0b4f2d4a09bea0291658cf49904\n"
     ]
    }
   ],
   "source": [
    "# 160 bit hash function\n",
    "import hashlib\n",
    "data=(input(\"ENTER ANY WORD OR NUMBER:  \"))\n",
    "convert=hashlib.sha1(data.encode())\n",
    "print(\"The sha1 for \"+data+\" is:\",convert.hexdigest()) # encoded data into hexadecimal format\n"
   ]
  },
  {
   "cell_type": "markdown",
   "metadata": {
    "id": "LILdo69PDU5v"
   },
   "source": [
    "***blake2b***"
   ]
  },
  {
   "cell_type": "code",
   "execution_count": 41,
   "metadata": {
    "colab": {
     "base_uri": "https://localhost:8080/"
    },
    "id": "S-FVOA78DVND",
    "outputId": "bd8804d4-7119-4474-a173-b43f23cc29b8"
   },
   "outputs": [
    {
     "name": "stdout",
     "output_type": "stream",
     "text": [
      "ENTER ANY WORD OR NUMBER:  sudipta\n",
      "The blake2b for sudipta is: 1c70f0d57ff56f1ff727e2c466ef0eeadea3dc14cf84a7950743af96e1c201fab34f944d886425e56fe46e80c62613c3f162fadb1624edfe6a351ad0bc00703d\n"
     ]
    }
   ],
   "source": [
    "import hashlib\n",
    "data=(input(\"ENTER ANY WORD OR NUMBER:  \"))\n",
    "convert=hashlib.blake2b(data.encode())\n",
    "print(\"The blake2b for \"+data+\" is:\",convert.hexdigest())"
   ]
  },
  {
   "cell_type": "markdown",
   "metadata": {
    "id": "snx8bGfbFlN1"
   },
   "source": [
    "##SALTING ***and*** ITERATION"
   ]
  },
  {
   "cell_type": "code",
   "execution_count": 50,
   "metadata": {
    "colab": {
     "base_uri": "https://localhost:8080/"
    },
    "id": "1mgp7z5XKZvs",
    "outputId": "48c3df3f-50ae-493a-e9f7-ba0a33269ab0"
   },
   "outputs": [
    {
     "name": "stdout",
     "output_type": "stream",
     "text": [
      "enter your user name :sudipta@12345\n",
      "The username is :  b'\\xd6\\x92\\xa6\\xed*@\\x9e\\t\\xe9\\x92\\xcah)\\xb8\\xffI\\xc5\\xc7\\x93x'\n"
     ]
    }
   ],
   "source": [
    "import hashlib\n",
    "import os # to generat a salt use os.urandom\n",
    "salt=os.urandom(128)\n",
    "key=input(\"enter your user name :\")\n",
    "convert=hashlib.pbkdf2_hmac('sha1',key.encode('utf-8'),salt,10)\n",
    "print(\"The username is : \",convert)"
   ]
  }
 ],
 "metadata": {
  "colab": {
   "collapsed_sections": [],
   "name": "PYTHON AND NETWORK SECURITY BOOT CAMP .ipynb",
   "provenance": []
  },
  "kernelspec": {
   "display_name": "Python 3",
   "language": "python",
   "name": "python3"
  },
  "language_info": {
   "codemirror_mode": {
    "name": "ipython",
    "version": 3
   },
   "file_extension": ".py",
   "mimetype": "text/x-python",
   "name": "python",
   "nbconvert_exporter": "python",
   "pygments_lexer": "ipython3",
   "version": "3.8.5"
  }
 },
 "nbformat": 4,
 "nbformat_minor": 1
}
